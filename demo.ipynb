{
 "cells": [
  {
   "cell_type": "markdown",
   "id": "bee663d4",
   "metadata": {},
   "source": [
    "# whattocook Package"
   ]
  },
  {
   "cell_type": "markdown",
   "id": "43bb59c9",
   "metadata": {},
   "source": [
    "## Recipe from Rwandan cuisine\n",
    "This package contains four different functions to give you a 'Rwandan' recipe as pdf\n",
    "The pdf contains name of the recipe, a picture of the recipe, the ingredients and the method to make that recipe"
   ]
  },
  {
   "cell_type": "markdown",
   "id": "24e27bbb",
   "metadata": {},
   "source": [
    "### The functions are  simple(), course_specific(), seasonal(), combined()"
   ]
  },
  {
   "cell_type": "markdown",
   "id": "4e713d59",
   "metadata": {},
   "source": [
    "## install the package"
   ]
  },
  {
   "cell_type": "code",
   "execution_count": null,
   "id": "6ce42fa9",
   "metadata": {},
   "outputs": [],
   "source": [
    "! pip install whattocook"
   ]
  },
  {
   "cell_type": "markdown",
   "id": "eacfc5b0",
   "metadata": {},
   "source": [
    "## import the package and functions"
   ]
  },
  {
   "cell_type": "code",
   "execution_count": 2,
   "id": "355ef939",
   "metadata": {},
   "outputs": [],
   "source": [
    "from whattocook import simple,course_specific,seasonal,combined"
   ]
  },
  {
   "cell_type": "markdown",
   "id": "34ba40b5",
   "metadata": {},
   "source": [
    "### simple()\n",
    "provides a random recipe"
   ]
  },
  {
   "cell_type": "code",
   "execution_count": 3,
   "id": "6a9bcf84",
   "metadata": {},
   "outputs": [],
   "source": [
    "simple()"
   ]
  },
  {
   "cell_type": "markdown",
   "id": "6ae370ed",
   "metadata": {},
   "source": [
    "### course_specific()\n",
    "provides a recipe based on the paremeter\n",
    "paremeters are 'breakfast', 'lunch', 'snack' and 'dinner'\n"
   ]
  },
  {
   "cell_type": "code",
   "execution_count": 4,
   "id": "2e7d8907",
   "metadata": {},
   "outputs": [],
   "source": [
    "course_specific('breakfast')"
   ]
  },
  {
   "cell_type": "code",
   "execution_count": 5,
   "id": "b8115689",
   "metadata": {},
   "outputs": [],
   "source": [
    "course_specific('lunch')"
   ]
  },
  {
   "cell_type": "code",
   "execution_count": null,
   "id": "0033edae",
   "metadata": {},
   "outputs": [],
   "source": [
    "course_specific('dinner')"
   ]
  },
  {
   "cell_type": "code",
   "execution_count": null,
   "id": "51f55879",
   "metadata": {},
   "outputs": [],
   "source": [
    "course_specific('snack')"
   ]
  },
  {
   "cell_type": "markdown",
   "id": "587aa49f",
   "metadata": {},
   "source": [
    "### seasonal()\n",
    "provides a random recipe calculating current month and comparing the available vegetables in the market"
   ]
  },
  {
   "cell_type": "code",
   "execution_count": 6,
   "id": "46a7ca4f",
   "metadata": {},
   "outputs": [],
   "source": [
    "seasonal()"
   ]
  },
  {
   "cell_type": "markdown",
   "id": "27b23860",
   "metadata": {},
   "source": [
    "### combined() \n",
    "provides a recipe based on available vegetables in current month and according to the course name\n",
    "paremeters are 'breakfast', 'lunch', 'snack' and 'dinner'"
   ]
  },
  {
   "cell_type": "code",
   "execution_count": 7,
   "id": "6811a665",
   "metadata": {},
   "outputs": [],
   "source": [
    "combined('breakfast')"
   ]
  },
  {
   "cell_type": "code",
   "execution_count": null,
   "id": "83503e4a",
   "metadata": {},
   "outputs": [],
   "source": [
    "combined('lunch')"
   ]
  },
  {
   "cell_type": "code",
   "execution_count": null,
   "id": "cf85d3fa",
   "metadata": {},
   "outputs": [],
   "source": [
    "combined('dinner')"
   ]
  },
  {
   "cell_type": "code",
   "execution_count": null,
   "id": "99a95e0c",
   "metadata": {},
   "outputs": [],
   "source": [
    "combined('snack')"
   ]
  }
 ],
 "metadata": {
  "kernelspec": {
   "display_name": "Python 3 (ipykernel)",
   "language": "python",
   "name": "python3"
  },
  "language_info": {
   "codemirror_mode": {
    "name": "ipython",
    "version": 3
   },
   "file_extension": ".py",
   "mimetype": "text/x-python",
   "name": "python",
   "nbconvert_exporter": "python",
   "pygments_lexer": "ipython3",
   "version": "3.9.13"
  }
 },
 "nbformat": 4,
 "nbformat_minor": 5
}
